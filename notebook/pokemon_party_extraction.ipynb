{
 "cells": [
  {
   "cell_type": "code",
   "execution_count": 55,
   "metadata": {},
   "outputs": [],
   "source": [
    "from langchain_openai import ChatOpenAI\n",
    "from langchain_core.prompts import ChatPromptTemplate\n",
    "from langchain_community.document_loaders import WebBaseLoader\n",
    "from langchain_core.output_parsers.json import SimpleJsonOutputParser\n",
    "from langchain_core.output_parsers.string import StrOutputParser\n",
    "from langchain.output_parsers.boolean import BooleanOutputParser\n",
    "from tqdm.auto import tqdm\n",
    "from pydantic import BaseModel, Field"
   ]
  },
  {
   "cell_type": "code",
   "execution_count": 4,
   "metadata": {},
   "outputs": [],
   "source": [
    "import os\n",
    "from getpass import getpass\n",
    "\n",
    "# Set the OpenAI API key\n",
    "# You can set the key directly or use an environment variable\n",
    "os.environ[\"OPENAI_API_KEY\"] = getpass(\"Enter your OpenAI API key: \")"
   ]
  },
  {
   "cell_type": "code",
   "execution_count": 43,
   "metadata": {},
   "outputs": [],
   "source": [
    "from bs4 import BeautifulSoup\n",
    "import requests\n",
    "\n",
    "url = 'https://sv.pokedb.tokyo/trainer/list?season=27&rule=0&name=&party=1&page=1'\n",
    "response = requests.get(url)\n",
    "response.encoding = response.apparent_encoding  # 文字エンコーディングを自動検出して設定\n",
    "html = response.text\n",
    "\n",
    "soup = BeautifulSoup(html, 'html.parser')\n",
    "trainer_rows = soup.select('tbody tr')\n",
    "\n",
    "trainers_data = []\n",
    "\n",
    "for row in trainer_rows:\n",
    "    rank = row.find('td', class_='has-text-weight-bold').text.strip().replace('\\n\\n\\n構築記事', '')\n",
    "    rating = row.find('td', class_='is-hidden-mobile').text.strip()\n",
    "    trainer_name = row.find('div', class_='trainer-name').find_all('span')[-1].text.strip()\n",
    "    \n",
    "    article_link_tag = row.find('a', class_='link-team-article')\n",
    "    article_link = article_link_tag['href'] if article_link_tag else None\n",
    "\n",
    "    if article_link is None:\n",
    "        continue\n",
    "    \n",
    "    trainers_data.append({\n",
    "        '順位': int(rank),\n",
    "        'レーティング': int(rating),\n",
    "        'トレーナー名': trainer_name,\n",
    "        '構築記事へのリンク': article_link\n",
    "    })\n"
   ]
  },
  {
   "cell_type": "code",
   "execution_count": 41,
   "metadata": {},
   "outputs": [],
   "source": [
    "from bs4 import BeautifulSoup\n",
    "import requests\n",
    "\n",
    "url = 'https://sv.pokedb.tokyo/trainer/list?season=27&rule=0&name=&party=1&page=2'\n",
    "response = requests.get(url)\n",
    "response.encoding = response.apparent_encoding  # 文字エンコーディングを自動検出して設定\n",
    "html = response.text\n",
    "\n",
    "soup = BeautifulSoup(html, 'html.parser')\n",
    "trainer_rows = soup.select('tbody tr')\n",
    "\n",
    "trainers_data2 = []\n",
    "\n",
    "for row in trainer_rows:\n",
    "    rank = row.find('td', class_='has-text-weight-bold').text.strip().replace('\\n\\n\\n構築記事', '')\n",
    "    rating = row.find('td', class_='is-hidden-mobile').text.strip()\n",
    "    trainer_name = row.find('div', class_='trainer-name').find_all('span')[-1].text.strip()\n",
    "    \n",
    "    article_link_tag = row.find('a', class_='link-team-article')\n",
    "    article_link = article_link_tag['href'] if article_link_tag else None\n",
    "\n",
    "    if article_link is None:\n",
    "        continue\n",
    "    \n",
    "    trainers_data2.append({\n",
    "        '順位': int(rank),\n",
    "        'レーティング': int(rating),\n",
    "        'トレーナー名': trainer_name,\n",
    "        '構築記事へのリンク': article_link\n",
    "    })\n"
   ]
  },
  {
   "cell_type": "code",
   "execution_count": 44,
   "metadata": {},
   "outputs": [],
   "source": [
    "trainers_data.extend(trainers_data2)"
   ]
  },
  {
   "cell_type": "code",
   "execution_count": 46,
   "metadata": {},
   "outputs": [
    {
     "data": {
      "text/plain": [
       "163"
      ]
     },
     "execution_count": 46,
     "metadata": {},
     "output_type": "execute_result"
    }
   ],
   "source": [
    "len(trainers_data)"
   ]
  },
  {
   "cell_type": "code",
   "execution_count": 83,
   "metadata": {},
   "outputs": [],
   "source": [
    "model1 = ChatOpenAI(\n",
    "    model=\"gpt-4o\",\n",
    ")\n",
    "\n",
    "class PokemonInfo(BaseModel):\n",
    "    name: str = Field(description=\"ポケモン名\")\n",
    "    item: str = Field(description=\"アイテム\")\n",
    "    nature: str = Field(description=\"性格\")\n",
    "    ability: str = Field(description=\"特性\")\n",
    "    Ttype: str = Field(description=\"テラスタルタイプ\")\n",
    "    moves: list[str] = Field(description=\"技\")\n",
    "    effort: list[int] = Field(description=\"努力値\")\n",
    "\n",
    "class ExtractedPokemons(BaseModel):\n",
    "    internal_thinking_process: str = Field(description=\"思考過程\")\n",
    "    pokemons: list[PokemonInfo] = Field(description=\"ポケモンの情報\")\n",
    "\n",
    "model2 = ChatOpenAI(\n",
    "    model=\"gpt-4o\",\n",
    ").with_structured_output(ExtractedPokemons)\n",
    "\n",
    "prompt0 = ChatPromptTemplate.from_template(\n",
    "    \"あなたはポケモンに詳しいポケモンマスターです。\"\n",
    "    \"以下のブログ記事の中にはポケモンに関する次の情報が含まれています。\"\n",
    "    \"ポケモン名、タイプ、特性、技4つ、アイテム、性格、努力値、テラスタルタイプ\"\n",
    "    \"この情報が全部で6体分存在します。\"\n",
    "    \"ポケモン名: pokemon_name, \"\n",
    "    \"特性: ability, \"\n",
    "    \"技: moves, \"\n",
    "    \"アイテム: item, \"\n",
    "    \"性格: nature, \"\n",
    "    \"努力値: evs(H,A,B,C,D,S), \"\n",
    "    \"テラスタルタイプ: terastal_type(基本的にひらがな、カタカナで記載してください)\"\n",
    "    \"重要！これらの情報が含まれているかどうかを確認してください。\"\n",
    "    \"もし情報が抽出できそうなら YES, できなそうなら NO と答えてください。\"\n",
    "    \"対象のブログ記事: {blog_article_content}\"\n",
    ")\n",
    "\n",
    "prompt1 = ChatPromptTemplate.from_template(\n",
    "    \"あなたはポケモンに詳しいポケモンマスターです。\"\n",
    "    \"以下のブログ記事の中にはポケモンに関する次の情報が含まれています。\"\n",
    "    \"ポケモン名、タイプ、特性、技4つ、アイテム、性格、努力値、テラスタルタイプ\"\n",
    "    \"この情報が全部で6体分存在します。それを次の形式で列挙してください。\"\n",
    "    \"もし情報が不足している場合は、わかる範囲で記載してください。\"\n",
    "    \"ポケモン名: pokemon_name, \"\n",
    "    \"特性: ability, \"\n",
    "    \"技: moves, \"\n",
    "    \"アイテム: item, \"\n",
    "    \"性格: nature, \"\n",
    "    \"努力値: evs(H,A,B,C,D,S), \"\n",
    "    \"なお、努力値ですが、努力値ではなく実数値で表記されている場合があります。例えば、131(4)-x-75-187(252)-155-205(252+) のような形です。\"\n",
    "    \"この場合、努力値は [4, 0, 0, 252, 0, 252] としてください。\"\n",
    "    \"テラスタルタイプ: terastal_type(基本的にひらがな、カタカナで記載してください)\"\n",
    "    \"対象のブログ記事: {blog_article_content}\"\n",
    ")\n",
    "\n",
    "prompt2 = ChatPromptTemplate.from_template(\n",
    "    \"あなたはポケモンに詳しいポケモンマスターです。\"\n",
    "    \"これからあなたにはポケモンの情報6体分を提供します。\"\n",
    "    \"そこから以下の情報を抽出してください。\"\n",
    "    \"pokemon1_name,pokemon1_item,pokemon1_nature,pokemon1_ability,pokemon1_Ttype,pokemon1_moves,pokemon1_effort\"\n",
    "    \"注意点を述べます。\"\n",
    "    \"1. 漢字を使わず、ひらがなとカタカナのみで表記してください。\"\n",
    "    \"2. 努力値は、H,A,B,C,D,Sの順番でカンマ区切りで記載してください。またここはシングルクォートで囲んでください。\"\n",
    "    \"3. 技名は、カンマ区切りで4つ記載してください。またここはシングルクォートで囲んでください。漢字を使わず、ひらがなとカタカナのみで表記してください。\"\n",
    "    \"いくつか注意すべき具体例を挙げます。\"\n",
    "    \"突撃チョッキ→とつげきチョッキ、連撃ウーラオス→ウーラオス(れんげき)、暁ガチグマ→ガチグマ(アカツキ)、などです。\"\n",
    "    \"出力の形式は次のようになります。json形式で出力してください。コードブロック表記は必要ありません。\"\n",
    "    \"internal_thinking_process: str\"\n",
    "    \"pokemons: list of dict(pokemon)\"\n",
    "    \"pokemonsの中身は、以下のような json です。\"\n",
    "    \"name: str, \"\n",
    "    \"item: str, \"\n",
    "    \"nature: str, \"\n",
    "    \"ability: str, \"\n",
    "    \"Ttype: str, \"\n",
    "    \"moves: list of str, \"\n",
    "    \"effort: list of int\"\n",
    "    \"6体のポケモンの情報: {pokemon_info}\"\n",
    ")"
   ]
  },
  {
   "cell_type": "code",
   "execution_count": 84,
   "metadata": {},
   "outputs": [
    {
     "data": {
      "application/vnd.jupyter.widget-view+json": {
       "model_id": "bf86b2b638a94d6b9b05d7b8eca0fbf9",
       "version_major": 2,
       "version_minor": 0
      },
      "text/plain": [
       "  0%|          | 0/163 [00:00<?, ?it/s]"
      ]
     },
     "metadata": {},
     "output_type": "display_data"
    },
    {
     "name": "stderr",
     "output_type": "stream",
     "text": [
      "Fetching pages: 100%|##########| 1/1 [00:00<00:00, 14.27it/s]\n",
      "Fetching pages: 100%|##########| 1/1 [00:00<00:00, 15.65it/s]\n",
      "Fetching pages: 100%|##########| 1/1 [00:00<00:00, 13.63it/s]\n",
      "Fetching pages: 100%|##########| 1/1 [00:00<00:00,  2.43it/s]\n",
      "Fetching pages: 100%|##########| 1/1 [00:00<00:00,  5.32it/s]\n",
      "Fetching pages: 100%|##########| 1/1 [00:00<00:00,  5.54it/s]\n",
      "Fetching pages: 100%|##########| 1/1 [00:00<00:00,  3.28it/s]\n"
     ]
    },
    {
     "name": "stdout",
     "output_type": "stream",
     "text": [
      "24位: スキップします\n"
     ]
    },
    {
     "name": "stderr",
     "output_type": "stream",
     "text": [
      "Fetching pages: 100%|##########| 1/1 [00:00<00:00, 15.05it/s]\n",
      "Fetching pages: 100%|##########| 1/1 [00:00<00:00,  5.85it/s]\n",
      "Fetching pages: 100%|##########| 1/1 [00:00<00:00,  2.44it/s]\n"
     ]
    },
    {
     "name": "stdout",
     "output_type": "stream",
     "text": [
      "29位: スキップします\n"
     ]
    },
    {
     "name": "stderr",
     "output_type": "stream",
     "text": [
      "Fetching pages: 100%|##########| 1/1 [00:00<00:00, 15.53it/s]\n",
      "Fetching pages: 100%|##########| 1/1 [00:00<00:00,  1.92it/s]\n",
      "Fetching pages: 100%|##########| 1/1 [00:00<00:00,  5.66it/s]\n",
      "Fetching pages: 100%|##########| 1/1 [00:00<00:00, 14.65it/s]\n"
     ]
    },
    {
     "name": "stdout",
     "output_type": "stream",
     "text": [
      "34位: スキップします\n"
     ]
    },
    {
     "name": "stderr",
     "output_type": "stream",
     "text": [
      "Fetching pages: 100%|##########| 1/1 [00:00<00:00,  6.00it/s]\n"
     ]
    },
    {
     "name": "stdout",
     "output_type": "stream",
     "text": [
      "35位: スキップします\n"
     ]
    },
    {
     "name": "stderr",
     "output_type": "stream",
     "text": [
      "Fetching pages: 100%|##########| 1/1 [00:00<00:00, 17.90it/s]\n",
      "Fetching pages: 100%|##########| 1/1 [00:00<00:00,  2.63it/s]\n",
      "Fetching pages: 100%|##########| 1/1 [00:00<00:00,  5.00it/s]\n",
      "Fetching pages: 100%|##########| 1/1 [00:00<00:00, 14.19it/s]\n",
      "Fetching pages: 100%|##########| 1/1 [00:00<00:00,  5.40it/s]\n",
      "Fetching pages: 100%|##########| 1/1 [00:00<00:00,  5.48it/s]\n",
      "Fetching pages: 100%|##########| 1/1 [00:00<00:00, 15.22it/s]\n",
      "Fetching pages: 100%|##########| 1/1 [00:00<00:00, 15.11it/s]\n",
      "Fetching pages: 100%|##########| 1/1 [00:00<00:00, 10.80it/s]\n",
      "Fetching pages: 100%|##########| 1/1 [00:00<00:00,  5.14it/s]\n",
      "Fetching pages: 100%|##########| 1/1 [00:00<00:00, 16.24it/s]\n",
      "Fetching pages: 100%|##########| 1/1 [00:00<00:00, 16.37it/s]\n",
      "Fetching pages: 100%|##########| 1/1 [00:00<00:00, 16.16it/s]\n",
      "Fetching pages: 100%|##########| 1/1 [00:00<00:00,  5.72it/s]\n"
     ]
    },
    {
     "name": "stdout",
     "output_type": "stream",
     "text": [
      "65位: スキップします\n"
     ]
    },
    {
     "name": "stderr",
     "output_type": "stream",
     "text": [
      "Fetching pages: 100%|##########| 1/1 [00:00<00:00, 15.90it/s]\n",
      "Fetching pages: 100%|##########| 1/1 [00:00<00:00,  2.95it/s]\n"
     ]
    },
    {
     "name": "stdout",
     "output_type": "stream",
     "text": [
      "72位: ポケ徹記事のためスキップします。\n"
     ]
    },
    {
     "name": "stderr",
     "output_type": "stream",
     "text": [
      "Fetching pages: 100%|##########| 1/1 [00:00<00:00,  2.24it/s]\n"
     ]
    },
    {
     "name": "stdout",
     "output_type": "stream",
     "text": [
      "82位: ポケ徹記事のためスキップします。\n"
     ]
    },
    {
     "name": "stderr",
     "output_type": "stream",
     "text": [
      "Fetching pages: 100%|##########| 1/1 [00:00<00:00, 17.69it/s]\n"
     ]
    },
    {
     "name": "stdout",
     "output_type": "stream",
     "text": [
      "84位: スキップします\n"
     ]
    },
    {
     "name": "stderr",
     "output_type": "stream",
     "text": [
      "Fetching pages: 100%|##########| 1/1 [00:00<00:00,  5.70it/s]\n"
     ]
    },
    {
     "name": "stdout",
     "output_type": "stream",
     "text": [
      "85位: スキップします\n"
     ]
    },
    {
     "name": "stderr",
     "output_type": "stream",
     "text": [
      "Fetching pages: 100%|##########| 1/1 [00:00<00:00, 16.65it/s]\n"
     ]
    },
    {
     "name": "stdout",
     "output_type": "stream",
     "text": [
      "86位: スキップします\n"
     ]
    },
    {
     "name": "stderr",
     "output_type": "stream",
     "text": [
      "Fetching pages: 100%|##########| 1/1 [00:00<00:00,  5.57it/s]\n",
      "Fetching pages: 100%|##########| 1/1 [00:00<00:00,  5.39it/s]\n",
      "Fetching pages: 100%|##########| 1/1 [00:00<00:00, 16.51it/s]\n",
      "Fetching pages: 100%|##########| 1/1 [00:00<00:00, 17.22it/s]\n",
      "Fetching pages: 100%|##########| 1/1 [00:00<00:00,  5.55it/s]\n",
      "Fetching pages: 100%|##########| 1/1 [00:00<00:00, 14.76it/s]\n",
      "Fetching pages: 100%|##########| 1/1 [00:00<00:00,  5.48it/s]\n",
      "Fetching pages: 100%|##########| 1/1 [00:00<00:00,  2.41it/s]\n",
      "Fetching pages: 100%|##########| 1/1 [00:00<00:00,  5.67it/s]\n",
      "Fetching pages: 100%|##########| 1/1 [00:00<00:00, 10.76it/s]\n",
      "Fetching pages: 100%|##########| 1/1 [00:00<00:00,  5.75it/s]\n",
      "Fetching pages: 100%|##########| 1/1 [00:00<00:00, 14.21it/s]\n"
     ]
    },
    {
     "name": "stdout",
     "output_type": "stream",
     "text": [
      "124位: ポケ徹記事のためスキップします。\n"
     ]
    },
    {
     "name": "stderr",
     "output_type": "stream",
     "text": [
      "Fetching pages: 100%|##########| 1/1 [00:00<00:00,  2.93it/s]\n",
      "Fetching pages: 100%|##########| 1/1 [00:00<00:00, 17.58it/s]\n",
      "Fetching pages: 100%|##########| 1/1 [00:00<00:00, 16.13it/s]\n",
      "Fetching pages: 100%|##########| 1/1 [00:00<00:00, 12.61it/s]\n",
      "Fetching pages: 100%|##########| 1/1 [00:00<00:00,  3.22it/s]\n",
      "Fetching pages: 100%|##########| 1/1 [00:00<00:00,  1.92it/s]\n",
      "Fetching pages: 100%|##########| 1/1 [00:00<00:00,  3.04it/s]\n",
      "Fetching pages: 100%|##########| 1/1 [00:00<00:00,  2.44it/s]\n",
      "Fetching pages: 100%|##########| 1/1 [00:00<00:00, 13.77it/s]\n",
      "Fetching pages: 100%|##########| 1/1 [00:00<00:00, 15.81it/s]\n",
      "Fetching pages: 100%|##########| 1/1 [00:00<00:00, 10.48it/s]\n",
      "Fetching pages: 100%|##########| 1/1 [00:00<00:00, 16.60it/s]\n"
     ]
    },
    {
     "name": "stdout",
     "output_type": "stream",
     "text": [
      "155位: スキップします\n"
     ]
    },
    {
     "name": "stderr",
     "output_type": "stream",
     "text": [
      "Fetching pages: 100%|##########| 1/1 [00:00<00:00,  8.70it/s]\n",
      "Fetching pages: 100%|##########| 1/1 [00:00<00:00,  5.75it/s]\n"
     ]
    },
    {
     "name": "stdout",
     "output_type": "stream",
     "text": [
      "178位: ポケ徹記事のためスキップします。\n"
     ]
    },
    {
     "name": "stderr",
     "output_type": "stream",
     "text": [
      "Fetching pages: 100%|##########| 1/1 [00:00<00:00, 16.44it/s]\n",
      "Fetching pages: 100%|##########| 1/1 [00:00<00:00, 16.84it/s]\n",
      "Fetching pages: 100%|##########| 1/1 [00:00<00:00,  5.70it/s]\n",
      "Fetching pages: 100%|##########| 1/1 [00:00<00:00, 15.96it/s]\n",
      "Fetching pages: 100%|##########| 1/1 [00:00<00:00,  3.15it/s]\n",
      "Fetching pages: 100%|##########| 1/1 [00:00<00:00,  2.92it/s]\n",
      "Fetching pages: 100%|##########| 1/1 [00:00<00:00, 16.04it/s]\n"
     ]
    },
    {
     "name": "stdout",
     "output_type": "stream",
     "text": [
      "208位: スキップします\n"
     ]
    },
    {
     "name": "stderr",
     "output_type": "stream",
     "text": [
      "Fetching pages: 100%|##########| 1/1 [00:00<00:00, 16.87it/s]\n"
     ]
    },
    {
     "name": "stdout",
     "output_type": "stream",
     "text": [
      "217位: スキップします\n"
     ]
    },
    {
     "name": "stderr",
     "output_type": "stream",
     "text": [
      "Fetching pages: 100%|##########| 1/1 [00:00<00:00, 15.80it/s]\n",
      "Fetching pages: 100%|##########| 1/1 [00:00<00:00,  5.96it/s]\n",
      "Fetching pages: 100%|##########| 1/1 [00:00<00:00,  5.54it/s]\n"
     ]
    },
    {
     "name": "stdout",
     "output_type": "stream",
     "text": [
      "234位: スキップします\n"
     ]
    },
    {
     "name": "stderr",
     "output_type": "stream",
     "text": [
      "Fetching pages: 100%|##########| 1/1 [00:00<00:00,  5.84it/s]\n",
      "Fetching pages: 100%|##########| 1/1 [00:00<00:00, 15.53it/s]\n",
      "Fetching pages: 100%|##########| 1/1 [00:00<00:00, 16.01it/s]\n",
      "Fetching pages: 100%|##########| 1/1 [00:00<00:00, 18.16it/s]\n",
      "Fetching pages: 100%|##########| 1/1 [00:00<00:00,  5.53it/s]\n",
      "Fetching pages: 100%|##########| 1/1 [00:00<00:00, 16.03it/s]\n"
     ]
    },
    {
     "name": "stdout",
     "output_type": "stream",
     "text": [
      "292位: ポケ徹記事のためスキップします。\n"
     ]
    },
    {
     "name": "stderr",
     "output_type": "stream",
     "text": [
      "Fetching pages: 100%|##########| 1/1 [00:00<00:00,  1.67it/s]\n",
      "Fetching pages: 100%|##########| 1/1 [00:00<00:00,  5.41it/s]\n",
      "Fetching pages: 100%|##########| 1/1 [00:00<00:00, 15.74it/s]\n"
     ]
    },
    {
     "name": "stdout",
     "output_type": "stream",
     "text": [
      "359位: スキップします\n"
     ]
    },
    {
     "name": "stderr",
     "output_type": "stream",
     "text": [
      "Fetching pages: 100%|##########| 1/1 [00:00<00:00,  1.02it/s]\n",
      "Fetching pages: 100%|##########| 1/1 [00:00<00:00,  2.32it/s]\n",
      "Fetching pages: 100%|##########| 1/1 [00:00<00:00, 14.11it/s]\n",
      "Fetching pages: 100%|##########| 1/1 [00:00<00:00, 15.24it/s]\n",
      "Fetching pages: 100%|##########| 1/1 [00:00<00:00, 13.82it/s]\n",
      "Fetching pages: 100%|##########| 1/1 [00:00<00:00, 12.03it/s]\n",
      "Fetching pages: 100%|##########| 1/1 [00:00<00:00,  2.03it/s]\n",
      "Fetching pages: 100%|##########| 1/1 [00:00<00:00,  5.67it/s]\n",
      "Fetching pages: 100%|##########| 1/1 [00:00<00:00,  5.71it/s]\n",
      "Fetching pages: 100%|##########| 1/1 [00:00<00:00, 18.55it/s]\n",
      "Fetching pages: 100%|##########| 1/1 [00:00<00:00,  1.23it/s]\n"
     ]
    },
    {
     "name": "stdout",
     "output_type": "stream",
     "text": [
      "423位: スキップします\n"
     ]
    },
    {
     "name": "stderr",
     "output_type": "stream",
     "text": [
      "Fetching pages: 100%|##########| 1/1 [00:00<00:00,  5.85it/s]\n",
      "Fetching pages: 100%|##########| 1/1 [00:00<00:00,  2.05it/s]\n",
      "Fetching pages: 100%|##########| 1/1 [00:00<00:00,  7.11it/s]\n",
      "Fetching pages: 100%|##########| 1/1 [00:00<00:00, 17.30it/s]\n"
     ]
    },
    {
     "name": "stdout",
     "output_type": "stream",
     "text": [
      "439位: スキップします\n"
     ]
    },
    {
     "name": "stderr",
     "output_type": "stream",
     "text": [
      "Fetching pages: 100%|##########| 1/1 [00:00<00:00,  9.86it/s]\n",
      "Fetching pages: 100%|##########| 1/1 [00:00<00:00,  5.61it/s]\n",
      "Fetching pages: 100%|##########| 1/1 [00:00<00:00, 14.01it/s]\n",
      "Fetching pages: 100%|##########| 1/1 [00:00<00:00, 13.35it/s]\n"
     ]
    },
    {
     "name": "stdout",
     "output_type": "stream",
     "text": [
      "473位: スキップします\n"
     ]
    },
    {
     "name": "stderr",
     "output_type": "stream",
     "text": [
      "Fetching pages: 100%|##########| 1/1 [00:00<00:00,  2.95it/s]\n",
      "Fetching pages: 100%|##########| 1/1 [00:00<00:00, 15.91it/s]\n",
      "Fetching pages: 100%|##########| 1/1 [00:00<00:00, 15.99it/s]\n",
      "Fetching pages: 100%|##########| 1/1 [00:00<00:00, 15.00it/s]\n",
      "Fetching pages: 100%|##########| 1/1 [00:00<00:00,  5.91it/s]\n",
      "Fetching pages: 100%|##########| 1/1 [00:00<00:00,  2.52it/s]\n"
     ]
    },
    {
     "name": "stdout",
     "output_type": "stream",
     "text": [
      "539位: スキップします\n"
     ]
    },
    {
     "name": "stderr",
     "output_type": "stream",
     "text": [
      "Fetching pages: 100%|##########| 1/1 [00:00<00:00, 15.10it/s]\n",
      "Fetching pages: 100%|##########| 1/1 [00:00<00:00,  5.47it/s]\n",
      "Fetching pages: 100%|##########| 1/1 [00:00<00:00, 14.74it/s]\n",
      "Fetching pages: 100%|##########| 1/1 [00:00<00:00,  5.55it/s]\n",
      "Fetching pages: 100%|##########| 1/1 [00:00<00:00,  5.46it/s]\n",
      "Fetching pages: 100%|##########| 1/1 [00:00<00:00,  6.06it/s]\n",
      "Fetching pages: 100%|##########| 1/1 [00:00<00:00, 14.47it/s]\n",
      "Fetching pages: 100%|##########| 1/1 [00:00<00:00, 15.69it/s]\n",
      "Fetching pages: 100%|##########| 1/1 [00:00<00:00,  2.79it/s]\n"
     ]
    },
    {
     "name": "stdout",
     "output_type": "stream",
     "text": [
      "628位: スキップします\n"
     ]
    },
    {
     "name": "stderr",
     "output_type": "stream",
     "text": [
      "Fetching pages: 100%|##########| 1/1 [00:00<00:00, 16.94it/s]\n",
      "Fetching pages: 100%|##########| 1/1 [00:00<00:00,  5.64it/s]\n",
      "Fetching pages: 100%|##########| 1/1 [00:00<00:00, 14.04it/s]\n",
      "Fetching pages: 100%|##########| 1/1 [00:00<00:00, 17.25it/s]\n"
     ]
    },
    {
     "name": "stdout",
     "output_type": "stream",
     "text": [
      "665位: ポケ徹記事のためスキップします。\n"
     ]
    },
    {
     "name": "stderr",
     "output_type": "stream",
     "text": [
      "Fetching pages: 100%|##########| 1/1 [00:00<00:00,  2.92it/s]\n",
      "Fetching pages: 100%|##########| 1/1 [00:00<00:00,  2.77it/s]\n",
      "Fetching pages: 100%|##########| 1/1 [00:00<00:00,  2.30it/s]\n",
      "Fetching pages: 100%|##########| 1/1 [00:00<00:00,  5.73it/s]\n",
      "Fetching pages: 100%|##########| 1/1 [00:00<00:00, 15.92it/s]\n"
     ]
    },
    {
     "name": "stdout",
     "output_type": "stream",
     "text": [
      "690位: スキップします\n"
     ]
    },
    {
     "name": "stderr",
     "output_type": "stream",
     "text": [
      "Fetching pages: 100%|##########| 1/1 [00:00<00:00,  1.93it/s]\n"
     ]
    },
    {
     "name": "stdout",
     "output_type": "stream",
     "text": [
      "702位: スキップします\n"
     ]
    },
    {
     "name": "stderr",
     "output_type": "stream",
     "text": [
      "Fetching pages: 100%|##########| 1/1 [00:00<00:00,  1.51it/s]\n",
      "Fetching pages: 100%|##########| 1/1 [00:00<00:00,  3.86it/s]\n",
      "Fetching pages: 100%|##########| 1/1 [00:00<00:00, 13.59it/s]\n"
     ]
    },
    {
     "name": "stdout",
     "output_type": "stream",
     "text": [
      "740位: ポケ徹記事のためスキップします。\n"
     ]
    },
    {
     "name": "stderr",
     "output_type": "stream",
     "text": [
      "Fetching pages: 100%|##########| 1/1 [00:00<00:00,  5.85it/s]\n"
     ]
    },
    {
     "name": "stdout",
     "output_type": "stream",
     "text": [
      "750位: スキップします\n"
     ]
    },
    {
     "name": "stderr",
     "output_type": "stream",
     "text": [
      "Fetching pages: 100%|##########| 1/1 [00:00<00:00, 15.76it/s]\n",
      "Fetching pages: 100%|##########| 1/1 [00:00<00:00,  2.39it/s]\n"
     ]
    },
    {
     "name": "stdout",
     "output_type": "stream",
     "text": [
      "757位: スキップします\n"
     ]
    },
    {
     "name": "stderr",
     "output_type": "stream",
     "text": [
      "Fetching pages: 100%|##########| 1/1 [00:00<00:00,  3.54it/s]\n"
     ]
    },
    {
     "name": "stdout",
     "output_type": "stream",
     "text": [
      "764位: スキップします\n"
     ]
    },
    {
     "name": "stderr",
     "output_type": "stream",
     "text": [
      "Fetching pages: 100%|##########| 1/1 [00:00<00:00,  2.42it/s]\n",
      "Fetching pages: 100%|##########| 1/1 [00:00<00:00,  5.40it/s]\n",
      "Fetching pages: 100%|##########| 1/1 [00:00<00:00,  2.96it/s]\n",
      "Fetching pages: 100%|##########| 1/1 [00:00<00:00, 13.77it/s]\n",
      "Fetching pages: 100%|##########| 1/1 [00:00<00:00,  1.98it/s]\n"
     ]
    },
    {
     "name": "stdout",
     "output_type": "stream",
     "text": [
      "828位: スキップします\n",
      "829位: ポケ徹記事のためスキップします。\n"
     ]
    },
    {
     "name": "stderr",
     "output_type": "stream",
     "text": [
      "Fetching pages: 100%|##########| 1/1 [00:00<00:00,  1.93it/s]\n",
      "Fetching pages: 100%|##########| 1/1 [00:00<00:00,  5.88it/s]\n"
     ]
    },
    {
     "name": "stdout",
     "output_type": "stream",
     "text": [
      "841位: ポケ徹記事のためスキップします。\n"
     ]
    },
    {
     "name": "stderr",
     "output_type": "stream",
     "text": [
      "Fetching pages: 100%|##########| 1/1 [00:00<00:00, 14.80it/s]\n"
     ]
    },
    {
     "name": "stdout",
     "output_type": "stream",
     "text": [
      "852位: ポケ徹記事のためスキップします。\n",
      "861位: ポケ徹記事のためスキップします。\n"
     ]
    },
    {
     "name": "stderr",
     "output_type": "stream",
     "text": [
      "Fetching pages: 100%|##########| 1/1 [00:00<00:00,  5.51it/s]\n"
     ]
    },
    {
     "name": "stdout",
     "output_type": "stream",
     "text": [
      "886位: ポケ徹記事のためスキップします。\n"
     ]
    },
    {
     "name": "stderr",
     "output_type": "stream",
     "text": [
      "Fetching pages: 100%|##########| 1/1 [00:00<00:00, 16.28it/s]\n",
      "Fetching pages: 100%|##########| 1/1 [00:00<00:00,  3.27it/s]\n",
      "Fetching pages: 100%|##########| 1/1 [00:00<00:00,  2.25it/s]\n",
      "Fetching pages: 100%|##########| 1/1 [00:00<00:00, 14.36it/s]\n",
      "Fetching pages: 100%|##########| 1/1 [00:00<00:00,  2.47it/s]\n",
      "Fetching pages: 100%|##########| 1/1 [00:00<00:00,  5.52it/s]\n",
      "Fetching pages: 100%|##########| 1/1 [00:00<00:00,  2.92it/s]\n",
      "Fetching pages: 100%|##########| 1/1 [00:00<00:00,  5.10it/s]\n",
      "Fetching pages: 100%|##########| 1/1 [00:00<00:00,  2.59it/s]\n",
      "Fetching pages: 100%|##########| 1/1 [00:00<00:00,  2.90it/s]\n"
     ]
    }
   ],
   "source": [
    "# バトメモ画像で済まされている場合はスキップするようにしないといけない\n",
    "\n",
    "extracted_data = []\n",
    "skip_trainers = []\n",
    "\n",
    "for trainer in tqdm(trainers_data):\n",
    "    blog_url = trainer['構築記事へのリンク']\n",
    "    if \"yakkun\" in blog_url:\n",
    "        print(f\"{trainer['順位']}位: ポケ徹記事のためスキップします。\")\n",
    "        skip_trainers.append(trainer)\n",
    "        continue\n",
    "\n",
    "    loader = WebBaseLoader(web_paths=[blog_url])\n",
    "    docs = []\n",
    "    async for doc in loader.alazy_load():\n",
    "        docs.append(doc)\n",
    "    doc = docs[0]\n",
    "    boolean_chain = prompt0 | model1 | BooleanOutputParser()\n",
    "    try:\n",
    "        res = boolean_chain.invoke(\n",
    "            {\n",
    "                \"blog_article_content\": doc.page_content,\n",
    "            },\n",
    "        )\n",
    "    except Exception as e:\n",
    "        print(f\"Error processing {trainer['順位']}位: {e}\")\n",
    "        skip_trainers.append(trainer)\n",
    "        continue\n",
    "\n",
    "    if res == False:\n",
    "        print(f\"{trainer['順位']}位: スキップします\")\n",
    "        skip_trainers.append(trainer)\n",
    "        continue\n",
    "\n",
    "    seq_chain = {\"pokemon_info\": prompt1 | model1 | StrOutputParser()} | prompt2 | model2\n",
    "    res = seq_chain.invoke(\n",
    "        {\n",
    "            \"blog_article_content\": doc.page_content,\n",
    "        },\n",
    "    )\n",
    "    extracted_data.append({\n",
    "        \"rank\": trainer['順位'],\n",
    "        \"rating\": trainer['レーティング'],\n",
    "        \"trainer_name\": trainer['トレーナー名'],\n",
    "        \"blog_url\": trainer['構築記事へのリンク'],\n",
    "        \"pokemon_info\": res.pokemons,\n",
    "    })"
   ]
  },
  {
   "cell_type": "code",
   "execution_count": null,
   "metadata": {},
   "outputs": [],
   "source": []
  },
  {
   "cell_type": "code",
   "execution_count": 69,
   "metadata": {},
   "outputs": [
    {
     "data": {
      "text/plain": [
       "38"
      ]
     },
     "execution_count": 69,
     "metadata": {},
     "output_type": "execute_result"
    }
   ],
   "source": [
    "len(skip_trainers)"
   ]
  },
  {
   "cell_type": "code",
   "execution_count": 75,
   "metadata": {},
   "outputs": [
    {
     "data": {
      "text/plain": [
       "{'rank': 127,\n",
       " 'rating': 2008,\n",
       " 'trainer_name': 'ピロスケ',\n",
       " 'blog_url': 'https://pillosuke.hatenablog.com/entry/2025/03/02/035004',\n",
       " 'pokemon_info': [PokemonInfo(name='エーフィ', item='ふうせん', nature='ひかえめ', ability='不明', Ttype='フェアリー', moves=['サイコノイズ', 'みわくのボイス', 'みらいよち', 'あさのひざし'], effort=[84, 0, 0, 252, 0, 172]),\n",
       "  PokemonInfo(name='コライドン', item='とつげきチョッキ', nature='いじっぱり', ability='不明', Ttype='ほのお', moves=['フレアドライブ', 'ドレインパンチ', 'ニトロチャージ', 'こおりのキバ'], effort=[236, 196, 4, 0, 12, 60]),\n",
       "  PokemonInfo(name='ハバタクカミ', item='おんみつマント', nature='おくびょう', ability='不明', Ttype='ひこう', moves=['ムーンフォース', 'めいそう', 'ちょうはつ', 'いたみわけ'], effort=[4, 0, 252, 0, 0, 252]),\n",
       "  PokemonInfo(name='イーユイ', item='こだわりメガネ', nature='ひかえめ', ability='不明', Ttype='ほのお', moves=['かえんほうしゃ', 'あくのはどう', 'オーバーヒート', 'サイコキネシス'], effort=[228, 0, 4, 212, 60, 4]),\n",
       "  PokemonInfo(name='ドオー', item='オボンのみ', nature='しんちょう', ability='不明', Ttype='でんき', moves=['じしん', 'どくどく', 'じこさいせい', 'ステルスロック'], effort=[252, 0, 4, 0, 252, 0]),\n",
       "  PokemonInfo(name='ヘイラッシャ', item='たべのこし', nature='わんぱく', ability='不明', Ttype='ノーマル', moves=['ゆきなだれ', 'ボディプレス', 'あくび', 'ねむる'], effort=[252, 0, 212, 0, 44, 0])]}"
      ]
     },
     "execution_count": 75,
     "metadata": {},
     "output_type": "execute_result"
    }
   ],
   "source": [
    "extracted_data[40]"
   ]
  },
  {
   "cell_type": "code",
   "execution_count": 85,
   "metadata": {},
   "outputs": [],
   "source": [
    "# csv に変換する\n",
    "import pandas as pd\n",
    "\n",
    "flat_data_list = []\n",
    "for i, trainer in enumerate(extracted_data, 1):\n",
    "    flat_data = {}\n",
    "    for i, pokemon in enumerate(trainer[\"pokemon_info\"], 1):\n",
    "        if i > 6:\n",
    "            break\n",
    "\n",
    "        prefix = f\"pokemon{i}\"\n",
    "        flat_data[f\"{prefix}_name\"] = pokemon.name\n",
    "        flat_data[f\"{prefix}_item\"] = pokemon.item\n",
    "        flat_data[f\"{prefix}_nature\"] = pokemon.nature\n",
    "        flat_data[f\"{prefix}_ability\"] = pokemon.ability\n",
    "        flat_data[f\"{prefix}_Ttype\"] = pokemon.Ttype\n",
    "        flat_data[f\"{prefix}_moves\"] = \", \".join(pokemon.moves)\n",
    "        flat_data[f\"{prefix}_effort\"] = \", \".join(map(str, pokemon.effort)) if pokemon.effort else None\n",
    "\n",
    "    flat_data_list.append({\n",
    "        \"rank\": trainer[\"rank\"],\n",
    "        \"rating\": trainer[\"rating\"],\n",
    "        \"trainer_name\": trainer[\"trainer_name\"],\n",
    "        \"blog_url\": trainer[\"blog_url\"],\n",
    "        **flat_data\n",
    "    })\n",
    "\n",
    "df = pd.DataFrame(flat_data_list)"
   ]
  },
  {
   "cell_type": "code",
   "execution_count": 86,
   "metadata": {},
   "outputs": [
    {
     "data": {
      "text/html": [
       "<div>\n",
       "<style scoped>\n",
       "    .dataframe tbody tr th:only-of-type {\n",
       "        vertical-align: middle;\n",
       "    }\n",
       "\n",
       "    .dataframe tbody tr th {\n",
       "        vertical-align: top;\n",
       "    }\n",
       "\n",
       "    .dataframe thead th {\n",
       "        text-align: right;\n",
       "    }\n",
       "</style>\n",
       "<table border=\"1\" class=\"dataframe\">\n",
       "  <thead>\n",
       "    <tr style=\"text-align: right;\">\n",
       "      <th></th>\n",
       "      <th>rank</th>\n",
       "      <th>rating</th>\n",
       "      <th>trainer_name</th>\n",
       "      <th>blog_url</th>\n",
       "      <th>pokemon1_name</th>\n",
       "      <th>pokemon1_item</th>\n",
       "      <th>pokemon1_nature</th>\n",
       "      <th>pokemon1_ability</th>\n",
       "      <th>pokemon1_Ttype</th>\n",
       "      <th>pokemon1_moves</th>\n",
       "      <th>...</th>\n",
       "      <th>pokemon5_Ttype</th>\n",
       "      <th>pokemon5_moves</th>\n",
       "      <th>pokemon5_effort</th>\n",
       "      <th>pokemon6_name</th>\n",
       "      <th>pokemon6_item</th>\n",
       "      <th>pokemon6_nature</th>\n",
       "      <th>pokemon6_ability</th>\n",
       "      <th>pokemon6_Ttype</th>\n",
       "      <th>pokemon6_moves</th>\n",
       "      <th>pokemon6_effort</th>\n",
       "    </tr>\n",
       "  </thead>\n",
       "  <tbody>\n",
       "    <tr>\n",
       "      <th>0</th>\n",
       "      <td>1</td>\n",
       "      <td>2174</td>\n",
       "      <td>アスノヨゾラ</td>\n",
       "      <td>https://orion-poke.hatenablog.com/entry/2025/0...</td>\n",
       "      <td>ホウオウ</td>\n",
       "      <td>ゴツゴツメット</td>\n",
       "      <td>わんぱく</td>\n",
       "      <td>さいせいりょく</td>\n",
       "      <td>フェアリー</td>\n",
       "      <td>せいなるほのお, おにび, ひかりのかべ, じこさいせい</td>\n",
       "      <td>...</td>\n",
       "      <td>ゴースト</td>\n",
       "      <td>アイアンヘッド, ちょうはつ, きりばらい, はねやすめ</td>\n",
       "      <td>252, 0, 252, 0, 4, 0</td>\n",
       "      <td>アローラベトベトン</td>\n",
       "      <td>くろいヘドロ</td>\n",
       "      <td>しんちょう</td>\n",
       "      <td>どくしゅ</td>\n",
       "      <td>どく</td>\n",
       "      <td>どくづき, はたきおとす, かげうち, まもる</td>\n",
       "      <td>252, 0, 4, 0, 252, 0</td>\n",
       "    </tr>\n",
       "    <tr>\n",
       "      <th>1</th>\n",
       "      <td>5</td>\n",
       "      <td>2136</td>\n",
       "      <td>ビッパ</td>\n",
       "      <td>https://bippa-poke.hatenablog.com/entry/2025/0...</td>\n",
       "      <td>ミライドン</td>\n",
       "      <td>とつげきチョッキ</td>\n",
       "      <td>不明</td>\n",
       "      <td>不明</td>\n",
       "      <td>こおり</td>\n",
       "      <td>イナズマドライブ, りゅうせいぐん, テラバースト, ボルトチェンジ</td>\n",
       "      <td>...</td>\n",
       "      <td>ほのお</td>\n",
       "      <td>ドレインパンチ, サンダーダイブ, れいとうパンチ, つるぎのまい</td>\n",
       "      <td>108, 116, 252, 0, 4, 28</td>\n",
       "      <td>ウーラオス(れんげき)</td>\n",
       "      <td>パンチグローブ</td>\n",
       "      <td>不明</td>\n",
       "      <td>不明</td>\n",
       "      <td>ノーマル</td>\n",
       "      <td>すいりゅうれんだ, ドレインパンチ, アクアジェット, つるぎのまい</td>\n",
       "      <td>204, 196, 100, 0, 4, 4</td>\n",
       "    </tr>\n",
       "    <tr>\n",
       "      <th>2</th>\n",
       "      <td>7</td>\n",
       "      <td>2128</td>\n",
       "      <td>スカーレット</td>\n",
       "      <td>https://mega-salamance.hatenablog.com/entry/20...</td>\n",
       "      <td>ルナアーラ</td>\n",
       "      <td>こだわりスカーフ</td>\n",
       "      <td>ひかえめ</td>\n",
       "      <td>ファントムガード</td>\n",
       "      <td>フェアリー</td>\n",
       "      <td>シャドーレイ, ムーンフォース, トリック, つきのひかり</td>\n",
       "      <td>...</td>\n",
       "      <td>みず</td>\n",
       "      <td>しおづけ, まもる, みがわり, じこさいせい</td>\n",
       "      <td>252, 4, 156, 0, 52, 44</td>\n",
       "      <td>ほのおオーガポン</td>\n",
       "      <td>かまどのめん</td>\n",
       "      <td>いじっぱり</td>\n",
       "      <td>おもかげやどし</td>\n",
       "      <td>ほのお</td>\n",
       "      <td>ツタこんぼう, ウッドホーン, がんせきふうじ, でんこうせっか</td>\n",
       "      <td>236, 204, 4, 0, 4, 60</td>\n",
       "    </tr>\n",
       "    <tr>\n",
       "      <th>3</th>\n",
       "      <td>10</td>\n",
       "      <td>2121</td>\n",
       "      <td>ヘルメッポ</td>\n",
       "      <td>https://note.com/pokemons2/n/n054de1215fff</td>\n",
       "      <td>ディンルー</td>\n",
       "      <td>オボンのみ</td>\n",
       "      <td>わんぱく</td>\n",
       "      <td>わざわいのうつわ</td>\n",
       "      <td>みず</td>\n",
       "      <td>じしん, まきびし, ステルスロック, ふきとばし</td>\n",
       "      <td>...</td>\n",
       "      <td>ステラ</td>\n",
       "      <td>ゴールドラッシュ, シャドーボール, １０まんボルト, トリック</td>\n",
       "      <td>212, 0, 4, 60, 4, 228</td>\n",
       "      <td>ヘイラッシャ</td>\n",
       "      <td>ゴツゴツメット</td>\n",
       "      <td>わんぱく</td>\n",
       "      <td>てんねん</td>\n",
       "      <td>フェアリー</td>\n",
       "      <td>じわれ, あくび, まもる, ねむる</td>\n",
       "      <td>252, 0, 252, 0, 4, 0</td>\n",
       "    </tr>\n",
       "    <tr>\n",
       "      <th>4</th>\n",
       "      <td>19</td>\n",
       "      <td>2088</td>\n",
       "      <td>キャル</td>\n",
       "      <td>https://irohasu28.hatenadiary.com/entry/2025/0...</td>\n",
       "      <td>バドレックス(くろ)</td>\n",
       "      <td>きあいのタスキ</td>\n",
       "      <td>おくびょう</td>\n",
       "      <td>じんばいったい</td>\n",
       "      <td>フェアリー</td>\n",
       "      <td>アストラルビット, サイコショック, リーフストーム, わるだくみ</td>\n",
       "      <td>...</td>\n",
       "      <td>はがね</td>\n",
       "      <td>ムーンフォース, あまえる, めいそう, いたみわけ</td>\n",
       "      <td>84, 0, 252, 132, 20, 20</td>\n",
       "      <td>ウーラオス(すい)</td>\n",
       "      <td>とつげきチョッキ</td>\n",
       "      <td>いじっぱり</td>\n",
       "      <td>ふかしのこぶし</td>\n",
       "      <td>フェアリー</td>\n",
       "      <td>すいりゅうれんだ, インファイト, テラバースト, アクアジェット</td>\n",
       "      <td>188, 252, 20, 0, 4, 44</td>\n",
       "    </tr>\n",
       "    <tr>\n",
       "      <th>...</th>\n",
       "      <td>...</td>\n",
       "      <td>...</td>\n",
       "      <td>...</td>\n",
       "      <td>...</td>\n",
       "      <td>...</td>\n",
       "      <td>...</td>\n",
       "      <td>...</td>\n",
       "      <td>...</td>\n",
       "      <td>...</td>\n",
       "      <td>...</td>\n",
       "      <td>...</td>\n",
       "      <td>...</td>\n",
       "      <td>...</td>\n",
       "      <td>...</td>\n",
       "      <td>...</td>\n",
       "      <td>...</td>\n",
       "      <td>...</td>\n",
       "      <td>...</td>\n",
       "      <td>...</td>\n",
       "      <td>...</td>\n",
       "      <td>...</td>\n",
       "    </tr>\n",
       "    <tr>\n",
       "      <th>122</th>\n",
       "      <td>919</td>\n",
       "      <td>1862</td>\n",
       "      <td>アルトマーレ</td>\n",
       "      <td>https://hayate-hyphen.hatenablog.com/entry/202...</td>\n",
       "      <td>ムゲンダイナ</td>\n",
       "      <td>こだわりメガネ</td>\n",
       "      <td>ひかえめ</td>\n",
       "      <td>プレッシャー</td>\n",
       "      <td>ほのお</td>\n",
       "      <td>ダイマックスほう, りゅうせいぐん, ヘドロばくだん, かえんほうしゃ</td>\n",
       "      <td>...</td>\n",
       "      <td>フェアリー</td>\n",
       "      <td>じしん, ゆきなだれ, ねむる, あくび</td>\n",
       "      <td>252, 0, 252, 0, 4, 0</td>\n",
       "      <td>ランドロス(れいじゅう)</td>\n",
       "      <td>とつげきチョッキ</td>\n",
       "      <td>ゆうかん</td>\n",
       "      <td>いかく</td>\n",
       "      <td>みず</td>\n",
       "      <td>じしん, じわれ, がんせきふうじ, とんぼがえり</td>\n",
       "      <td>212, 44, 0, 0, 252, 0</td>\n",
       "    </tr>\n",
       "    <tr>\n",
       "      <th>123</th>\n",
       "      <td>926</td>\n",
       "      <td>1861</td>\n",
       "      <td>あいくま</td>\n",
       "      <td>https://note.com/aikumaaan/n/n83f6402fcb4d</td>\n",
       "      <td>バドレックス(クロウマ)</td>\n",
       "      <td>こだわりメガネ</td>\n",
       "      <td>おくびょう</td>\n",
       "      <td>じんばいったい</td>\n",
       "      <td>フェアリー</td>\n",
       "      <td>アストラルビット, サイコキネシス, リーフストーム, テラバースト</td>\n",
       "      <td>...</td>\n",
       "      <td>あく</td>\n",
       "      <td>クイックターン, じしん, はたきおとす, ミラーコート</td>\n",
       "      <td>252, 0, 4, 0, 252, 0</td>\n",
       "      <td>オーガポン(ほのお)</td>\n",
       "      <td>かまどのめん</td>\n",
       "      <td>いじっぱり</td>\n",
       "      <td>かたやぶり</td>\n",
       "      <td>ほのお</td>\n",
       "      <td>ツタこんぼう, ウッドホーン, でんこうせっか, つるぎのまい</td>\n",
       "      <td>252, 228, 4, 0, 4, 20</td>\n",
       "    </tr>\n",
       "    <tr>\n",
       "      <th>124</th>\n",
       "      <td>940</td>\n",
       "      <td>1860</td>\n",
       "      <td>(ENG)</td>\n",
       "      <td>https://attem-ptpk.hatenablog.com/entry/2025/0...</td>\n",
       "      <td>テラパゴス</td>\n",
       "      <td>たべのこし</td>\n",
       "      <td>ひかえめ</td>\n",
       "      <td>テラスシェル</td>\n",
       "      <td>ステラ</td>\n",
       "      <td>テラクラスター, まもる, めいそう, みがわり</td>\n",
       "      <td>...</td>\n",
       "      <td>ノーマル</td>\n",
       "      <td>しんそく, じしん, りゅうのまい, はねやすめ</td>\n",
       "      <td>244, 180, 4, 0, 60, 20</td>\n",
       "      <td>ハバタクカミ</td>\n",
       "      <td>きあいのタスキ</td>\n",
       "      <td>おくびょう</td>\n",
       "      <td>こだいかっせい</td>\n",
       "      <td>ゴースト</td>\n",
       "      <td>ムーンフォース, たたりめ, でんじは, ほろびのうた</td>\n",
       "      <td>4, 0, 0, 252, 0, 252</td>\n",
       "    </tr>\n",
       "    <tr>\n",
       "      <th>125</th>\n",
       "      <td>959</td>\n",
       "      <td>1859</td>\n",
       "      <td>いくまろ</td>\n",
       "      <td>https://note.com/ymik0820/n/nd40fa14c8eef</td>\n",
       "      <td>バドレックス(くろ)</td>\n",
       "      <td>こだわりメガネ</td>\n",
       "      <td>おくびょう</td>\n",
       "      <td>じんばいったい</td>\n",
       "      <td>フェアリー</td>\n",
       "      <td></td>\n",
       "      <td>...</td>\n",
       "      <td>ノーマル</td>\n",
       "      <td>ドラムアタック, はたきおとす, グラススライダー, とんぼがえり</td>\n",
       "      <td>132, 116, 4, 0, 252, 0</td>\n",
       "      <td>パオジアン</td>\n",
       "      <td>きあいのタスキ</td>\n",
       "      <td>いじっぱり</td>\n",
       "      <td>わざわいのつるぎ</td>\n",
       "      <td>でんき</td>\n",
       "      <td>つららおとし, テラバースト, ふいうち, つるぎのまい</td>\n",
       "      <td>0, 252, 4, 0, 0, 252</td>\n",
       "    </tr>\n",
       "    <tr>\n",
       "      <th>126</th>\n",
       "      <td>963</td>\n",
       "      <td>1859</td>\n",
       "      <td>れんぴょろ</td>\n",
       "      <td>https://note.com/renpyoro_poke/n/n1f7f2937ce17</td>\n",
       "      <td>ギラティナ(オリジン)</td>\n",
       "      <td>だいはっきんだま</td>\n",
       "      <td>れいせい</td>\n",
       "      <td>ふゆう</td>\n",
       "      <td>ゴースト</td>\n",
       "      <td>ポルターガイスト, かげうち, シャドーボール, りゅうせいぐん</td>\n",
       "      <td>...</td>\n",
       "      <td>みず</td>\n",
       "      <td>すいりゅうれんだ, ドレインパンチ, みがわり, つるぎのまい</td>\n",
       "      <td>204, 132, 116, 0, 52, 4</td>\n",
       "      <td>ハバタクカミ</td>\n",
       "      <td>きあいのタスキ</td>\n",
       "      <td>おくびょう</td>\n",
       "      <td>こだいかっせい</td>\n",
       "      <td>じめん</td>\n",
       "      <td>ムーンフォース, シャドーボール, テラバースト, いたみわけ</td>\n",
       "      <td>4, 0, 0, 252, 0, 252</td>\n",
       "    </tr>\n",
       "  </tbody>\n",
       "</table>\n",
       "<p>127 rows × 46 columns</p>\n",
       "</div>"
      ],
      "text/plain": [
       "     rank  rating trainer_name  \\\n",
       "0       1    2174       アスノヨゾラ   \n",
       "1       5    2136          ビッパ   \n",
       "2       7    2128       スカーレット   \n",
       "3      10    2121        ヘルメッポ   \n",
       "4      19    2088          キャル   \n",
       "..    ...     ...          ...   \n",
       "122   919    1862       アルトマーレ   \n",
       "123   926    1861         あいくま   \n",
       "124   940    1860        (ENG)   \n",
       "125   959    1859         いくまろ   \n",
       "126   963    1859        れんぴょろ   \n",
       "\n",
       "                                              blog_url pokemon1_name  \\\n",
       "0    https://orion-poke.hatenablog.com/entry/2025/0...          ホウオウ   \n",
       "1    https://bippa-poke.hatenablog.com/entry/2025/0...         ミライドン   \n",
       "2    https://mega-salamance.hatenablog.com/entry/20...         ルナアーラ   \n",
       "3           https://note.com/pokemons2/n/n054de1215fff         ディンルー   \n",
       "4    https://irohasu28.hatenadiary.com/entry/2025/0...    バドレックス(くろ)   \n",
       "..                                                 ...           ...   \n",
       "122  https://hayate-hyphen.hatenablog.com/entry/202...        ムゲンダイナ   \n",
       "123         https://note.com/aikumaaan/n/n83f6402fcb4d  バドレックス(クロウマ)   \n",
       "124  https://attem-ptpk.hatenablog.com/entry/2025/0...         テラパゴス   \n",
       "125          https://note.com/ymik0820/n/nd40fa14c8eef    バドレックス(くろ)   \n",
       "126     https://note.com/renpyoro_poke/n/n1f7f2937ce17   ギラティナ(オリジン)   \n",
       "\n",
       "    pokemon1_item pokemon1_nature pokemon1_ability pokemon1_Ttype  \\\n",
       "0         ゴツゴツメット            わんぱく          さいせいりょく          フェアリー   \n",
       "1        とつげきチョッキ              不明               不明            こおり   \n",
       "2        こだわりスカーフ            ひかえめ         ファントムガード          フェアリー   \n",
       "3           オボンのみ            わんぱく         わざわいのうつわ             みず   \n",
       "4         きあいのタスキ           おくびょう          じんばいったい          フェアリー   \n",
       "..            ...             ...              ...            ...   \n",
       "122       こだわりメガネ            ひかえめ           プレッシャー            ほのお   \n",
       "123       こだわりメガネ           おくびょう          じんばいったい          フェアリー   \n",
       "124         たべのこし            ひかえめ           テラスシェル            ステラ   \n",
       "125       こだわりメガネ           おくびょう          じんばいったい          フェアリー   \n",
       "126      だいはっきんだま            れいせい              ふゆう           ゴースト   \n",
       "\n",
       "                          pokemon1_moves  ... pokemon5_Ttype  \\\n",
       "0           せいなるほのお, おにび, ひかりのかべ, じこさいせい  ...           ゴースト   \n",
       "1     イナズマドライブ, りゅうせいぐん, テラバースト, ボルトチェンジ  ...            ほのお   \n",
       "2          シャドーレイ, ムーンフォース, トリック, つきのひかり  ...             みず   \n",
       "3              じしん, まきびし, ステルスロック, ふきとばし  ...            ステラ   \n",
       "4      アストラルビット, サイコショック, リーフストーム, わるだくみ  ...            はがね   \n",
       "..                                   ...  ...            ...   \n",
       "122  ダイマックスほう, りゅうせいぐん, ヘドロばくだん, かえんほうしゃ  ...          フェアリー   \n",
       "123   アストラルビット, サイコキネシス, リーフストーム, テラバースト  ...             あく   \n",
       "124             テラクラスター, まもる, めいそう, みがわり  ...           ノーマル   \n",
       "125                                       ...           ノーマル   \n",
       "126     ポルターガイスト, かげうち, シャドーボール, りゅうせいぐん  ...             みず   \n",
       "\n",
       "                        pokemon5_moves          pokemon5_effort pokemon6_name  \\\n",
       "0         アイアンヘッド, ちょうはつ, きりばらい, はねやすめ     252, 0, 252, 0, 4, 0     アローラベトベトン   \n",
       "1    ドレインパンチ, サンダーダイブ, れいとうパンチ, つるぎのまい  108, 116, 252, 0, 4, 28   ウーラオス(れんげき)   \n",
       "2              しおづけ, まもる, みがわり, じこさいせい   252, 4, 156, 0, 52, 44      ほのおオーガポン   \n",
       "3     ゴールドラッシュ, シャドーボール, １０まんボルト, トリック    212, 0, 4, 60, 4, 228        ヘイラッシャ   \n",
       "4           ムーンフォース, あまえる, めいそう, いたみわけ  84, 0, 252, 132, 20, 20     ウーラオス(すい)   \n",
       "..                                 ...                      ...           ...   \n",
       "122               じしん, ゆきなだれ, ねむる, あくび     252, 0, 252, 0, 4, 0  ランドロス(れいじゅう)   \n",
       "123       クイックターン, じしん, はたきおとす, ミラーコート     252, 0, 4, 0, 252, 0    オーガポン(ほのお)   \n",
       "124           しんそく, じしん, りゅうのまい, はねやすめ   244, 180, 4, 0, 60, 20        ハバタクカミ   \n",
       "125  ドラムアタック, はたきおとす, グラススライダー, とんぼがえり   132, 116, 4, 0, 252, 0         パオジアン   \n",
       "126    すいりゅうれんだ, ドレインパンチ, みがわり, つるぎのまい  204, 132, 116, 0, 52, 4        ハバタクカミ   \n",
       "\n",
       "    pokemon6_item pokemon6_nature pokemon6_ability pokemon6_Ttype  \\\n",
       "0          くろいヘドロ           しんちょう             どくしゅ             どく   \n",
       "1         パンチグローブ              不明               不明           ノーマル   \n",
       "2          かまどのめん           いじっぱり          おもかげやどし            ほのお   \n",
       "3         ゴツゴツメット            わんぱく             てんねん          フェアリー   \n",
       "4        とつげきチョッキ           いじっぱり          ふかしのこぶし          フェアリー   \n",
       "..            ...             ...              ...            ...   \n",
       "122      とつげきチョッキ            ゆうかん              いかく             みず   \n",
       "123        かまどのめん           いじっぱり            かたやぶり            ほのお   \n",
       "124       きあいのタスキ           おくびょう          こだいかっせい           ゴースト   \n",
       "125       きあいのタスキ           いじっぱり         わざわいのつるぎ            でんき   \n",
       "126       きあいのタスキ           おくびょう          こだいかっせい            じめん   \n",
       "\n",
       "                         pokemon6_moves         pokemon6_effort  \n",
       "0               どくづき, はたきおとす, かげうち, まもる    252, 0, 4, 0, 252, 0  \n",
       "1    すいりゅうれんだ, ドレインパンチ, アクアジェット, つるぎのまい  204, 196, 100, 0, 4, 4  \n",
       "2      ツタこんぼう, ウッドホーン, がんせきふうじ, でんこうせっか   236, 204, 4, 0, 4, 60  \n",
       "3                    じわれ, あくび, まもる, ねむる    252, 0, 252, 0, 4, 0  \n",
       "4     すいりゅうれんだ, インファイト, テラバースト, アクアジェット  188, 252, 20, 0, 4, 44  \n",
       "..                                  ...                     ...  \n",
       "122           じしん, じわれ, がんせきふうじ, とんぼがえり   212, 44, 0, 0, 252, 0  \n",
       "123     ツタこんぼう, ウッドホーン, でんこうせっか, つるぎのまい   252, 228, 4, 0, 4, 20  \n",
       "124         ムーンフォース, たたりめ, でんじは, ほろびのうた    4, 0, 0, 252, 0, 252  \n",
       "125        つららおとし, テラバースト, ふいうち, つるぎのまい    0, 252, 4, 0, 0, 252  \n",
       "126     ムーンフォース, シャドーボール, テラバースト, いたみわけ    4, 0, 0, 252, 0, 252  \n",
       "\n",
       "[127 rows x 46 columns]"
      ]
     },
     "execution_count": 86,
     "metadata": {},
     "output_type": "execute_result"
    }
   ],
   "source": [
    "df"
   ]
  },
  {
   "cell_type": "code",
   "execution_count": 87,
   "metadata": {},
   "outputs": [],
   "source": [
    "df.to_csv(\"auto_extracted_pokemon_data.csv\", index=False)"
   ]
  }
 ],
 "metadata": {
  "kernelspec": {
   "display_name": ".venv",
   "language": "python",
   "name": "python3"
  },
  "language_info": {
   "codemirror_mode": {
    "name": "ipython",
    "version": 3
   },
   "file_extension": ".py",
   "mimetype": "text/x-python",
   "name": "python",
   "nbconvert_exporter": "python",
   "pygments_lexer": "ipython3",
   "version": "3.12.2"
  }
 },
 "nbformat": 4,
 "nbformat_minor": 2
}
