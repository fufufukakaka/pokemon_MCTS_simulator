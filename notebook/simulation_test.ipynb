{
 "cells": [
  {
   "cell_type": "code",
   "execution_count": 2,
   "metadata": {},
   "outputs": [],
   "source": [
    "import sys\n",
    "sys.path.append('..')"
   ]
  },
  {
   "cell_type": "code",
   "execution_count": 3,
   "metadata": {},
   "outputs": [
    {
     "ename": "FileNotFoundError",
     "evalue": "[Errno 2] No such file or directory: 'data/terastal/codelist.txt'",
     "output_type": "error",
     "traceback": [
      "\u001b[0;31m---------------------------------------------------------------------------\u001b[0m",
      "\u001b[0;31mFileNotFoundError\u001b[0m                         Traceback (most recent call last)",
      "Cell \u001b[0;32mIn[3], line 4\u001b[0m\n\u001b[1;32m      1\u001b[0m \u001b[38;5;28;01mfrom\u001b[39;00m\u001b[38;5;250m \u001b[39m\u001b[38;5;21;01msrc\u001b[39;00m\u001b[38;5;21;01m.\u001b[39;00m\u001b[38;5;21;01mpokemon_battle_sim\u001b[39;00m\u001b[38;5;21;01m.\u001b[39;00m\u001b[38;5;21;01mpokemon\u001b[39;00m\u001b[38;5;250m \u001b[39m\u001b[38;5;28;01mimport\u001b[39;00m Pokemon, Battle\n\u001b[1;32m      3\u001b[0m \u001b[38;5;66;03m# ライブラリの初期化\u001b[39;00m\n\u001b[0;32m----> 4\u001b[0m \u001b[43mPokemon\u001b[49m\u001b[38;5;241;43m.\u001b[39;49m\u001b[43minit\u001b[49m\u001b[43m(\u001b[49m\u001b[43m)\u001b[49m\n\u001b[1;32m      6\u001b[0m \u001b[38;5;66;03m# Battleクラスのインスタンスを生成\u001b[39;00m\n\u001b[1;32m      7\u001b[0m battle \u001b[38;5;241m=\u001b[39m Battle()\n",
      "File \u001b[0;32m~/Documents/github/pokemon_MCTS_simulator/notebook/../src/pokemon_battle_sim/pokemon.py:751\u001b[0m, in \u001b[0;36mPokemon.init\u001b[0;34m(season)\u001b[0m\n\u001b[1;32m    748\u001b[0m     season \u001b[38;5;241m=\u001b[39m \u001b[38;5;28mmax\u001b[39m(\u001b[38;5;241m12\u001b[39m\u001b[38;5;241m*\u001b[39m(y\u001b[38;5;241m-\u001b[39m\u001b[38;5;241m2022\u001b[39m) \u001b[38;5;241m+\u001b[39m m \u001b[38;5;241m-\u001b[39m \u001b[38;5;241m11\u001b[39m \u001b[38;5;241m-\u001b[39m (d\u001b[38;5;241m==\u001b[39m\u001b[38;5;241m1\u001b[39m), \u001b[38;5;241m1\u001b[39m)\n\u001b[1;32m    750\u001b[0m \u001b[38;5;66;03m# タイプ画像コードの読み込み\u001b[39;00m\n\u001b[0;32m--> 751\u001b[0m \u001b[38;5;28;01mwith\u001b[39;00m \u001b[38;5;28;43mopen\u001b[39;49m\u001b[43m(\u001b[49m\u001b[38;5;124;43m'\u001b[39;49m\u001b[38;5;124;43mdata/terastal/codelist.txt\u001b[39;49m\u001b[38;5;124;43m'\u001b[39;49m\u001b[43m,\u001b[49m\u001b[43m \u001b[49m\u001b[43mencoding\u001b[49m\u001b[38;5;241;43m=\u001b[39;49m\u001b[38;5;124;43m'\u001b[39;49m\u001b[38;5;124;43mutf-8\u001b[39;49m\u001b[38;5;124;43m'\u001b[39;49m\u001b[43m)\u001b[49m \u001b[38;5;28;01mas\u001b[39;00m fin:\n\u001b[1;32m    752\u001b[0m     \u001b[38;5;28;01mfor\u001b[39;00m line \u001b[38;5;129;01min\u001b[39;00m fin:\n\u001b[1;32m    753\u001b[0m         data \u001b[38;5;241m=\u001b[39m line\u001b[38;5;241m.\u001b[39msplit()\n",
      "\u001b[0;31mFileNotFoundError\u001b[0m: [Errno 2] No such file or directory: 'data/terastal/codelist.txt'"
     ]
    }
   ],
   "source": [
    "from src.pokemon_battle_sim.pokemon import Pokemon, Battle\n",
    "\n",
    "# ライブラリの初期化\n",
    "Pokemon.init()\n",
    "\n",
    "# Battleクラスのインスタンスを生成\n",
    "battle = Battle()\n",
    "\n",
    "# ポケモンを生成して選出に追加\n",
    "battle.selected[0].append(Pokemon('カイリュー'))\n",
    "battle.selected[1].append(Pokemon('ガチグマ(アカツキ)'))\n",
    "\n",
    "# 勝敗が決まるまで繰り返す\n",
    "while battle.winner() is None:\n",
    "    # ターン経過\n",
    "    battle.proceed()\n",
    "\n",
    "    # 行動した順にログ表示\n",
    "    print(f'\\nターン{battle.turn}')\n",
    "    for player in battle.action_order:\n",
    "        print(f'{player=}', battle.log[player], battle.damage_log[player])"
   ]
  }
 ],
 "metadata": {
  "kernelspec": {
   "display_name": ".venv",
   "language": "python",
   "name": "python3"
  },
  "language_info": {
   "codemirror_mode": {
    "name": "ipython",
    "version": 3
   },
   "file_extension": ".py",
   "mimetype": "text/x-python",
   "name": "python",
   "nbconvert_exporter": "python",
   "pygments_lexer": "ipython3",
   "version": "3.12.2"
  }
 },
 "nbformat": 4,
 "nbformat_minor": 2
}
