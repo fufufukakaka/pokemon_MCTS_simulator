{
 "cells": [
  {
   "cell_type": "code",
   "execution_count": 2,
   "metadata": {},
   "outputs": [
    {
     "name": "stdout",
     "output_type": "stream",
     "text": [
      "JSONデータを ../data/top_rankers/season_27.json に保存しました。\n"
     ]
    }
   ],
   "source": [
    "import pandas as pd\n",
    "import json\n",
    "\n",
    "# CSVファイルを読み込む（ファイル名は適宜変更）\n",
    "csv_file = \"../input.csv\"\n",
    "df = pd.read_csv(csv_file)\n",
    "\n",
    "# JSONデータのリストを作成\n",
    "json_data = []\n",
    "\n",
    "for _, row in df.iterrows():\n",
    "    entry = {\n",
    "        \"rank\": row[\"rank\"],\n",
    "        \"rating\": row[\"rating\"],\n",
    "        \"name\": row[\"name\"],\n",
    "        \"pokemons\": []\n",
    "    }\n",
    "    \n",
    "    for i in range(1, 7):  # 6匹のポケモンデータを処理\n",
    "        pokemon = {\n",
    "            \"name\": row[f\"pokemon{i}_name\"],\n",
    "            \"item\": row[f\"pokemon{i}_item\"],\n",
    "            \"nature\": row[f\"pokemon{i}_nature\"],\n",
    "            \"ability\": row[f\"pokemon{i}_ability\"],\n",
    "            \"Ttype\": row[f\"pokemon{i}_Ttype\"],\n",
    "            \"moves\": [move.strip() for move in row[f\"pokemon{i}_moves\"].split(\",\")],\n",
    "            \"effort\": [int(x.strip()) for x in row[f\"pokemon{i}_effort\"].split(\",\")]\n",
    "        }\n",
    "        entry[\"pokemons\"].append(pokemon)\n",
    "    \n",
    "    json_data.append(entry)\n",
    "\n",
    "# JSONファイルとして保存（またはprintで確認）\n",
    "json_output = \"../data/top_rankers/season_27.json\"\n",
    "with open(json_output, \"w\", encoding=\"utf-8\") as f:\n",
    "    json.dump(json_data, f, ensure_ascii=False, indent=4)\n",
    "\n",
    "print(f\"JSONデータを {json_output} に保存しました。\")\n"
   ]
  },
  {
   "cell_type": "code",
   "execution_count": 11,
   "metadata": {},
   "outputs": [
    {
     "name": "stdout",
     "output_type": "stream",
     "text": [
      "/Users/yusuke_fukasawa/Documents/github/pokemon_MCTS_simulator\n"
     ]
    },
    {
     "name": "stderr",
     "output_type": "stream",
     "text": [
      "/Users/yusuke_fukasawa/Documents/github/pokemon_MCTS_simulator/.venv/lib/python3.12/site-packages/IPython/core/magics/osm.py:417: UserWarning: This is now an optional IPython functionality, setting dhist requires you to install the `pickleshare` library.\n",
      "  self.shell.db['dhist'] = compress_dhist(dhist)[-100:]\n"
     ]
    }
   ],
   "source": [
    "%cd .."
   ]
  },
  {
   "cell_type": "code",
   "execution_count": 12,
   "metadata": {},
   "outputs": [
    {
     "name": "stdout",
     "output_type": "stream",
     "text": [
      "data/battle_data/season22.json\n"
     ]
    }
   ],
   "source": [
    "# 全トレーナーを読み込んで不明なデータがないかを調べる\n",
    "import sys\n",
    "import json\n",
    "\n",
    "from src.pokemon_battle_sim.pokemon import Pokemon\n",
    "\n",
    "def load_trainers_from_json(filename):\n",
    "    Pokemon.init()\n",
    "\n",
    "    with open(filename, \"r\", encoding=\"utf-8\") as f:\n",
    "        data = json.load(f)\n",
    "        for td in data:\n",
    "            for p in td[\"pokemons\"]:\n",
    "                pokemon = Pokemon(p[\"name\"])\n",
    "                pokemon.item = p[\"item\"]\n",
    "                pokemon.nature = p[\"nature\"]\n",
    "                pokemon.ability = p[\"ability\"]\n",
    "                pokemon.Ttype = p[\"Ttype\"]\n",
    "                pokemon.moves = p[\"moves\"]\n",
    "                pokemon.effort = p[\"effort\"]\n",
    "\n",
    "trainers = load_trainers_from_json(\"data/top_rankers/season_27.json\")"
   ]
  }
 ],
 "metadata": {
  "kernelspec": {
   "display_name": ".venv",
   "language": "python",
   "name": "python3"
  },
  "language_info": {
   "codemirror_mode": {
    "name": "ipython",
    "version": 3
   },
   "file_extension": ".py",
   "mimetype": "text/x-python",
   "name": "python",
   "nbconvert_exporter": "python",
   "pygments_lexer": "ipython3",
   "version": "3.12.2"
  }
 },
 "nbformat": 4,
 "nbformat_minor": 2
}
