{
 "cells": [
  {
   "cell_type": "code",
   "execution_count": 1,
   "metadata": {},
   "outputs": [],
   "source": [
    "def update_elo(rating_a, rating_b, result_a, K=32):\n",
    "    expected_a = 1 / (1 + 10 ** ((rating_b - rating_a) / 400))\n",
    "    new_rating_a = rating_a + K * (result_a - expected_a)\n",
    "    return new_rating_a"
   ]
  },
  {
   "cell_type": "code",
   "execution_count": 11,
   "metadata": {},
   "outputs": [],
   "source": [
    "# 対戦結果に応じた Elo レーティングの更新\n",
    "def update_each_elo_ratings(trainer_a_rating, trainer_b_rating, is_winner_a: bool):\n",
    "    if is_winner_a:\n",
    "        result_a, result_b = 1, 0\n",
    "    else:\n",
    "        result_a, result_b = 0, 1\n",
    "\n",
    "    # ここで一旦、更新前のレーティングを変数に保持する\n",
    "    rating_a_old = trainer_a_rating\n",
    "    rating_b_old = trainer_b_rating\n",
    "\n",
    "    trainer_a_rating = update_elo(rating_a_old, rating_b_old, result_a)\n",
    "    trainer_b_rating = update_elo(rating_b_old, rating_a_old, result_b)\n",
    "\n",
    "    return trainer_a_rating, trainer_b_rating"
   ]
  },
  {
   "cell_type": "code",
   "execution_count": 17,
   "metadata": {},
   "outputs": [],
   "source": [
    "import pandas as pd\n",
    "\n",
    "df = pd.read_csv(\"../data/battle_history_修正前.csv\")\n",
    "\n",
    "# レーティング初期化\n",
    "ratings = {}\n",
    "\n",
    "# 正しいレーティングを計算\n",
    "corrected_ratings = []\n",
    "for _, row in df.iterrows():\n",
    "    a_name, b_name = row[\"trainer_a_name\"], row[\"trainer_b_name\"]\n",
    "    winner = row[\"winner_name\"]\n",
    "    \n",
    "    # 両トレーナーの初期レーティングを設定（初回は1500）\n",
    "    a_rating = ratings.get(a_name, 1500)\n",
    "    b_rating = ratings.get(b_name, 1500)\n",
    "\n",
    "    # Elo更新\n",
    "    a_rating_new, b_rating_new = update_each_elo_ratings(a_rating, b_rating, winner == a_name)\n",
    "\n",
    "    # 更新後のレーティングを記録\n",
    "    ratings[a_name] = a_rating_new\n",
    "    ratings[b_name] = b_rating_new\n",
    "\n",
    "    corrected_ratings.append((a_rating_new, b_rating_new))\n",
    "\n",
    "df[\"corrected_trainer_a_rating\"], df[\"corrected_trainer_b_rating\"] = zip(*corrected_ratings)"
   ]
  },
  {
   "cell_type": "code",
   "execution_count": 27,
   "metadata": {},
   "outputs": [
    {
     "data": {
      "text/plain": [
       "50    1516\n",
       "51    1499\n",
       "52    1515\n",
       "53    1531\n",
       "54    1544\n",
       "55    1528\n",
       "56    1543\n",
       "57    1557\n",
       "58    1571\n",
       "59    1583\n",
       "Name: trainer_a_rating, dtype: int64"
      ]
     },
     "execution_count": 27,
     "metadata": {},
     "output_type": "execute_result"
    }
   ],
   "source": [
    "df.query(\"trainer_a_name == '23_俺出現神呆然'\")[\"trainer_a_rating\"]"
   ]
  },
  {
   "cell_type": "code",
   "execution_count": 25,
   "metadata": {},
   "outputs": [
    {
     "data": {
      "text/plain": [
       "50    1516.000000\n",
       "51    1499.263693\n",
       "52    1515.297601\n",
       "53    1530.677654\n",
       "54    1544.454316\n",
       "55    1527.847157\n",
       "56    1542.780261\n",
       "57    1556.820054\n",
       "58    1570.226475\n",
       "59    1582.395051\n",
       "Name: corrected_trainer_a_rating, dtype: float64"
      ]
     },
     "execution_count": 25,
     "metadata": {},
     "output_type": "execute_result"
    }
   ],
   "source": [
    "df.query(\"trainer_a_name == '23_俺出現神呆然'\")[\"corrected_trainer_a_rating\"]"
   ]
  },
  {
   "cell_type": "code",
   "execution_count": 28,
   "metadata": {},
   "outputs": [
    {
     "data": {
      "text/plain": [
       "121    1595\n",
       "145    1607\n",
       "240    1515\n",
       "305    1515\n",
       "334    1497\n",
       "Name: trainer_b_rating, dtype: int64"
      ]
     },
     "execution_count": 28,
     "metadata": {},
     "output_type": "execute_result"
    }
   ],
   "source": [
    "df.query(\"trainer_b_name == '23_俺出現神呆然'\")[\"trainer_b_rating\"]"
   ]
  },
  {
   "cell_type": "code",
   "execution_count": 26,
   "metadata": {},
   "outputs": [
    {
     "data": {
      "text/plain": [
       "121    1595.237881\n",
       "145    1607.624824\n",
       "240    1617.670685\n",
       "305    1627.317263\n",
       "334    1604.281266\n",
       "Name: corrected_trainer_b_rating, dtype: float64"
      ]
     },
     "execution_count": 26,
     "metadata": {},
     "output_type": "execute_result"
    }
   ],
   "source": [
    "df.query(\"trainer_b_name == '23_俺出現神呆然'\")[\"corrected_trainer_b_rating\"]"
   ]
  },
  {
   "cell_type": "code",
   "execution_count": 29,
   "metadata": {},
   "outputs": [
    {
     "data": {
      "text/plain": [
       "Index(['id', 'trainer_a_name', 'trainer_b_name', 'trainer_a_rating',\n",
       "       'trainer_b_rating', 'log_saved_time', 'winner_name',\n",
       "       'corrected_trainer_a_rating', 'corrected_trainer_b_rating'],\n",
       "      dtype='object')"
      ]
     },
     "execution_count": 29,
     "metadata": {},
     "output_type": "execute_result"
    }
   ],
   "source": [
    "df.columns"
   ]
  },
  {
   "cell_type": "code",
   "execution_count": 31,
   "metadata": {},
   "outputs": [],
   "source": [
    "# 修正したもので csv 書き出し\n",
    "df2 = df[[\"id\", \"trainer_a_name\", \"trainer_b_name\", \"corrected_trainer_a_rating\", \"corrected_trainer_b_rating\", 'log_saved_time', 'winner_name']]\n",
    "df2.columns = [\"id\", \"trainer_a_name\", \"trainer_b_name\", \"trainer_a_rating\", \"trainer_b_rating\", 'log_saved_time', 'winner_name']\n",
    "df2.to_csv(\"../data/battle_history_修正後.csv\", index=False, encoding=\"utf-8-sig\")"
   ]
  },
  {
   "cell_type": "code",
   "execution_count": 35,
   "metadata": {},
   "outputs": [
    {
     "name": "stderr",
     "output_type": "stream",
     "text": [
      "/var/folders/cn/l_vdrfmd0pxbx3p33nvb68wr0000gn/T/ipykernel_94342/1108842599.py:11: SettingWithCopyWarning: \n",
      "A value is trying to be set on a copy of a slice from a DataFrame.\n",
      "Try using .loc[row_indexer,col_indexer] = value instead\n",
      "\n",
      "See the caveats in the documentation: https://pandas.pydata.org/pandas-docs/stable/user_guide/indexing.html#returning-a-view-versus-a-copy\n",
      "  ratings_df2[\"rank\"] = ratings_df2[\"rank\"].astype(int)\n"
     ]
    }
   ],
   "source": [
    "# レーティングも csv で書き出す\n",
    "\n",
    "ratings_df = pd.DataFrame(ratings.items(), columns=[\"trainer_name\", \"rating\"])\n",
    "# trainer_name は rank_name\n",
    "# これを id, rank, name, sim_rating にする\n",
    "ratings_df[\"rank\"] = ratings_df[\"trainer_name\"].apply(lambda x: x.split(\"_\")[0])\n",
    "ratings_df[\"name\"] = ratings_df[\"trainer_name\"].apply(lambda x: x.split(\"_\")[1])\n",
    "\n",
    "ratings_df2 = ratings_df[[\"rank\", \"name\", \"rating\"]]\n",
    "ratings_df2.columns = [\"rank\", \"name\", \"sim_rating\"]\n",
    "ratings_df2[\"rank\"] = ratings_df2[\"rank\"].astype(int)\n",
    "ratings_df2 = ratings_df2.sort_values(by=\"rank\")\n",
    "ratings_df2 = ratings_df2.reset_index(drop=True)\n",
    "ratings_df2.to_csv(\"../data/rating_修正後.csv\", index=False, encoding=\"utf-8\")"
   ]
  }
 ],
 "metadata": {
  "kernelspec": {
   "display_name": ".venv",
   "language": "python",
   "name": "python3"
  },
  "language_info": {
   "codemirror_mode": {
    "name": "ipython",
    "version": 3
   },
   "file_extension": ".py",
   "mimetype": "text/x-python",
   "name": "python",
   "nbconvert_exporter": "python",
   "pygments_lexer": "ipython3",
   "version": "3.12.2"
  }
 },
 "nbformat": 4,
 "nbformat_minor": 2
}
